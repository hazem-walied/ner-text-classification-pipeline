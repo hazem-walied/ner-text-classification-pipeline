{
 "cells": [
  {
   "cell_type": "markdown",
   "id": "b7993396",
   "metadata": {},
   "source": [
    "# Importing Libraries"
   ]
  },
  {
   "cell_type": "code",
   "execution_count": 1,
   "id": "1bd095bf",
   "metadata": {},
   "outputs": [],
   "source": [
    "import torch\n",
    "import torch.nn as nn\n",
    "import torch.optim as optim\n",
    "from tqdm import tqdm"
   ]
  },
  {
   "cell_type": "code",
   "execution_count": 2,
   "id": "d212bbb5",
   "metadata": {},
   "outputs": [],
   "source": [
    "class TextClassifier(nn.Module):\n",
    "    def __init__(self, vocab_size, embedding_dim, hidden_dim, num_classes, dropout=0.5):\n",
    "        super(TextClassifier, self).__init__()\n",
    "        \n",
    "        self.embedding = nn.Embedding(vocab_size, embedding_dim, padding_idx=0)\n",
    "        self.dropout = nn.Dropout(dropout)\n",
    "        \n",
    "        self.fc1 = nn.Linear(embedding_dim, hidden_dim)\n",
    "        self.fc2 = nn.Linear(hidden_dim, num_classes)\n",
    "        \n",
    "        self.relu = nn.ReLU()\n",
    "    \n",
    "    def forward(self, input_ids, attention_mask):\n",
    "        # (batch_size, seq_len, embedding_dim)\n",
    "        embedded = self.embedding(input_ids)\n",
    "        \n",
    "        # Apply mask to zero out padding\n",
    "        mask = attention_mask.unsqueeze(-1).expand_as(embedded)\n",
    "        embedded = embedded * mask\n",
    "        \n",
    "        # (batch_size, embedding_dim)\n",
    "        pooled = embedded.sum(dim=1) / attention_mask.sum(dim=1, keepdim=True)\n",
    "        \n",
    "        # Apply dropout\n",
    "        pooled = self.dropout(pooled)\n",
    "        \n",
    "        # (batch_size, hidden_dim)\n",
    "        hidden = self.relu(self.fc1(pooled))\n",
    "        hidden = self.dropout(hidden)\n",
    "        \n",
    "        # (batch_size, num_classes)\n",
    "        logits = self.fc2(hidden)\n",
    "        \n",
    "        return logits"
   ]
  },
  {
   "cell_type": "code",
   "execution_count": 3,
   "id": "9f6ff642",
   "metadata": {},
   "outputs": [],
   "source": [
    "def train_text_classifier(model, train_loader, val_loader, device, epochs=5, lr=0.001):\n",
    "    criterion = nn.CrossEntropyLoss()\n",
    "    optimizer = optim.Adam(model.parameters(), lr=lr)\n",
    "    scheduler = optim.lr_scheduler.ReduceLROnPlateau(optimizer, mode='min', factor=0.5, patience=1)\n",
    "    \n",
    "    best_val_loss = float('inf')\n",
    "    best_model = None\n",
    "    \n",
    "    for epoch in range(epochs):\n",
    "        # Training\n",
    "        model.train()\n",
    "        total_loss = 0\n",
    "        correct = 0\n",
    "        total = 0\n",
    "        \n",
    "        progress_bar = tqdm(train_loader, desc=f'Epoch {epoch+1}/{epochs} [Train]')\n",
    "        for batch in progress_bar:\n",
    "            # Move batch to device\n",
    "            input_ids = batch['input_ids'].to(device)\n",
    "            labels = batch['label'].to(device)\n",
    "            attention_mask = batch['attention_mask'].to(device)\n",
    "            \n",
    "            # Zero gradients\n",
    "            optimizer.zero_grad()\n",
    "            \n",
    "            # Forward pass\n",
    "            logits = model(input_ids, attention_mask)\n",
    "            loss = criterion(logits, labels)\n",
    "            \n",
    "            # Backward pass\n",
    "            loss.backward()\n",
    "            \n",
    "            # Gradient clipping\n",
    "            torch.nn.utils.clip_grad_norm_(model.parameters(), max_norm=1.0)\n",
    "            \n",
    "            # Update parameters\n",
    "            optimizer.step()\n",
    "            \n",
    "            # Calculate accuracy\n",
    "            _, predicted = torch.max(logits, 1)\n",
    "            total += labels.size(0)\n",
    "            correct += (predicted == labels).sum().item()\n",
    "            \n",
    "            # Update progress bar\n",
    "            total_loss += loss.item()\n",
    "            progress_bar.set_postfix({\n",
    "                'loss': total_loss / (progress_bar.n + 1),\n",
    "                'acc': correct / total\n",
    "            })\n",
    "        \n",
    "        train_loss = total_loss / len(train_loader)\n",
    "        train_acc = correct / total\n",
    "        \n",
    "        # Validation\n",
    "        model.eval()\n",
    "        val_loss = 0\n",
    "        correct = 0\n",
    "        total = 0\n",
    "        \n",
    "        with torch.no_grad():\n",
    "            progress_bar = tqdm(val_loader, desc=f'Epoch {epoch+1}/{epochs} [Val]')\n",
    "            for batch in progress_bar:\n",
    "                # Move batch to device\n",
    "                input_ids = batch['input_ids'].to(device)\n",
    "                labels = batch['label'].to(device)\n",
    "                attention_mask = batch['attention_mask'].to(device)\n",
    "                \n",
    "                # Forward pass\n",
    "                logits = model(input_ids, attention_mask)\n",
    "                loss = criterion(logits, labels)\n",
    "                \n",
    "                # Calculate accuracy\n",
    "                _, predicted = torch.max(logits, 1)\n",
    "                total += labels.size(0)\n",
    "                correct += (predicted == labels).sum().item()\n",
    "                \n",
    "                # Update progress bar\n",
    "                val_loss += loss.item()\n",
    "                progress_bar.set_postfix({\n",
    "                    'loss': val_loss / (progress_bar.n + 1),\n",
    "                    'acc': correct / total\n",
    "                })\n",
    "        \n",
    "        val_loss = val_loss / len(val_loader)\n",
    "        val_acc = correct / total\n",
    "        \n",
    "        # Update learning rate\n",
    "        scheduler.step(val_loss)\n",
    "        \n",
    "        print(f'Epoch {epoch+1}/{epochs} - Train Loss: {train_loss:.4f}, Train Acc: {train_acc:.4f}, Val Loss: {val_loss:.4f}, Val Acc: {val_acc:.4f}')\n",
    "        \n",
    "        # Save best model\n",
    "        if val_loss < best_val_loss:\n",
    "            best_val_loss = val_loss\n",
    "            best_model = model.state_dict().copy()\n",
    "            print(f'New best model saved with validation loss: {val_loss:.4f}')\n",
    "    \n",
    "    # Load best model\n",
    "    model.load_state_dict(best_model)\n",
    "    \n",
    "    return model"
   ]
  },
  {
   "cell_type": "code",
   "execution_count": 4,
   "id": "6aa7ffea",
   "metadata": {},
   "outputs": [],
   "source": [
    "import sys\n",
    "import os\n",
    "sys.path.append(os.path.abspath('../src'))"
   ]
  },
  {
   "cell_type": "code",
   "execution_count": 5,
   "id": "243370a6",
   "metadata": {},
   "outputs": [
    {
     "name": "stderr",
     "output_type": "stream",
     "text": [
      "Building vocabulary: 100%|██████████| 120000/120000 [37:12<00:00, 53.76it/s]   \n",
      "Building vocabulary: 100%|██████████| 7600/7600 [01:40<00:00, 75.52it/s]\n"
     ]
    }
   ],
   "source": [
    "from datasets import load_dataset\n",
    "from preprocessing.text_processor import TextClassificationDataset,TextPreprocessor,create_data_loaders\n",
    "\n",
    "# Load text classification dataset\n",
    "text_classification_dataset = load_dataset(\"ag_news\")\n",
    "\n",
    "text_preprocessor = TextPreprocessor(remove_stopwords=True, lemmatize=True)\n",
    "text_train_dataset = TextClassificationDataset(text_classification_dataset['train'], preprocessor=text_preprocessor)\n",
    "text_val_dataset = TextClassificationDataset(text_classification_dataset['test'], preprocessor=text_preprocessor)\n",
    "text_train_loader, text_val_loader = create_data_loaders(text_train_dataset, text_val_dataset)\n",
    "\n",
    "# Initialize model\n",
    "device = torch.device('cuda' if torch.cuda.is_available() else 'cpu')\n",
    "\n",
    "# Initialize model\n",
    "text_classifier = TextClassifier(\n",
    "    vocab_size=len(text_train_dataset.word2idx),\n",
    "    embedding_dim=100,\n",
    "    hidden_dim=128,\n",
    "    num_classes=text_train_dataset.num_classes,\n",
    "    dropout=0.5\n",
    ").to(device)"
   ]
  },
  {
   "cell_type": "code",
   "execution_count": 6,
   "id": "6b167722",
   "metadata": {},
   "outputs": [
    {
     "name": "stderr",
     "output_type": "stream",
     "text": [
      "Epoch 1/5 [Train]: 100%|██████████| 3750/3750 [18:20<00:00,  3.41it/s, loss=0.601, acc=0.778]\n",
      "Epoch 1/5 [Val]: 100%|██████████| 238/238 [01:16<00:00,  3.10it/s, loss=1.95, acc=0.254]\n"
     ]
    },
    {
     "name": "stdout",
     "output_type": "stream",
     "text": [
      "Epoch 1/5 - Train Loss: 0.6014, Train Acc: 0.7776, Val Loss: 1.9488, Val Acc: 0.2545\n",
      "New best model saved with validation loss: 1.9488\n"
     ]
    },
    {
     "name": "stderr",
     "output_type": "stream",
     "text": [
      "Epoch 2/5 [Train]: 100%|██████████| 3750/3750 [21:12<00:00,  2.95it/s, loss=0.358, acc=0.88] \n",
      "Epoch 2/5 [Val]: 100%|██████████| 238/238 [01:22<00:00,  2.90it/s, loss=2.18, acc=0.254]\n"
     ]
    },
    {
     "name": "stdout",
     "output_type": "stream",
     "text": [
      "Epoch 2/5 - Train Loss: 0.3583, Train Acc: 0.8804, Val Loss: 2.1833, Val Acc: 0.2545\n"
     ]
    },
    {
     "name": "stderr",
     "output_type": "stream",
     "text": [
      "Epoch 3/5 [Train]: 100%|██████████| 3750/3750 [20:10<00:00,  3.10it/s, loss=0.301, acc=0.9]  \n",
      "Epoch 3/5 [Val]: 100%|██████████| 238/238 [01:42<00:00,  2.31it/s, loss=2.42, acc=0.249]\n"
     ]
    },
    {
     "name": "stdout",
     "output_type": "stream",
     "text": [
      "Epoch 3/5 - Train Loss: 0.3010, Train Acc: 0.8998, Val Loss: 2.4181, Val Acc: 0.2495\n"
     ]
    },
    {
     "name": "stderr",
     "output_type": "stream",
     "text": [
      "Epoch 4/5 [Train]: 100%|██████████| 3750/3750 [20:48<00:00,  3.00it/s, loss=0.27, acc=0.911] \n",
      "Epoch 4/5 [Val]: 100%|██████████| 238/238 [01:09<00:00,  3.42it/s, loss=2.46, acc=0.246]\n"
     ]
    },
    {
     "name": "stdout",
     "output_type": "stream",
     "text": [
      "Epoch 4/5 - Train Loss: 0.2700, Train Acc: 0.9106, Val Loss: 2.4574, Val Acc: 0.2462\n"
     ]
    },
    {
     "name": "stderr",
     "output_type": "stream",
     "text": [
      "Epoch 5/5 [Train]: 100%|██████████| 3750/3750 [19:04<00:00,  3.28it/s, loss=0.254, acc=0.915]\n",
      "Epoch 5/5 [Val]: 100%|██████████| 238/238 [01:41<00:00,  2.34it/s, loss=2.57, acc=0.247]"
     ]
    },
    {
     "name": "stdout",
     "output_type": "stream",
     "text": [
      "Epoch 5/5 - Train Loss: 0.2544, Train Acc: 0.9151, Val Loss: 2.5663, Val Acc: 0.2470\n"
     ]
    },
    {
     "name": "stderr",
     "output_type": "stream",
     "text": [
      "\n"
     ]
    }
   ],
   "source": [
    "# Train model\n",
    "trained_text_classifier = train_text_classifier(\n",
    "    model=text_classifier,\n",
    "    train_loader=text_train_loader,\n",
    "    val_loader=text_val_loader,\n",
    "    device=device,\n",
    "    epochs=5,\n",
    "    lr=0.001\n",
    ")\n",
    "\n",
    "# Save the model\n",
    "torch.save(trained_text_classifier.state_dict(), 'text_classifier.pt')"
   ]
  },
  {
   "cell_type": "code",
   "execution_count": null,
   "id": "45555dfe",
   "metadata": {},
   "outputs": [],
   "source": []
  }
 ],
 "metadata": {
  "kernelspec": {
   "display_name": "Python 3",
   "language": "python",
   "name": "python3"
  },
  "language_info": {
   "codemirror_mode": {
    "name": "ipython",
    "version": 3
   },
   "file_extension": ".py",
   "mimetype": "text/x-python",
   "name": "python",
   "nbconvert_exporter": "python",
   "pygments_lexer": "ipython3",
   "version": "3.11.5"
  }
 },
 "nbformat": 4,
 "nbformat_minor": 5
}
